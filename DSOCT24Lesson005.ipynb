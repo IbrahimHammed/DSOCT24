{
  "nbformat": 4,
  "nbformat_minor": 0,
  "metadata": {
    "colab": {
      "provenance": [],
      "authorship_tag": "ABX9TyO1uENKJdr3/OkhT/4/KG7j",
      "include_colab_link": true
    },
    "kernelspec": {
      "name": "python3",
      "display_name": "Python 3"
    },
    "language_info": {
      "name": "python"
    }
  },
  "cells": [
    {
      "cell_type": "markdown",
      "metadata": {
        "id": "view-in-github",
        "colab_type": "text"
      },
      "source": [
        "<a href=\"https://colab.research.google.com/github/IbrahimHammed/DSOCT24/blob/main/DSOCT24Lesson005.ipynb\" target=\"_parent\"><img src=\"https://colab.research.google.com/assets/colab-badge.svg\" alt=\"Open In Colab\"/></a>"
      ]
    },
    {
      "cell_type": "code",
      "execution_count": 4,
      "metadata": {
        "colab": {
          "base_uri": "https://localhost:8080/"
        },
        "id": "fKTXNFb-dDds",
        "outputId": "ab431a1a-0c84-4128-96b2-e764b4d6331e"
      },
      "outputs": [
        {
          "output_type": "stream",
          "name": "stdout",
          "text": [
            "[0, 1, 2, 3, 4, 5, 6, 7, 8, 9]\n"
          ]
        }
      ],
      "source": [
        "numbers = list(range(10)) # 0-9\n",
        "print(numbers)"
      ]
    },
    {
      "cell_type": "code",
      "source": [
        "numbers = list(range(1,10))\n",
        "print(numbers)"
      ],
      "metadata": {
        "colab": {
          "base_uri": "https://localhost:8080/"
        },
        "id": "kgzvJs3lfr-u",
        "outputId": "51a3b1b7-f0e5-46cb-cb05-48e7068e4964"
      },
      "execution_count": 5,
      "outputs": [
        {
          "output_type": "stream",
          "name": "stdout",
          "text": [
            "[1, 2, 3, 4, 5, 6, 7, 8, 9]\n"
          ]
        }
      ]
    },
    {
      "cell_type": "code",
      "source": [
        "numbers = list(range(1,10,2))\n",
        "print(numbers)"
      ],
      "metadata": {
        "colab": {
          "base_uri": "https://localhost:8080/"
        },
        "id": "wtpPD4BXf0fQ",
        "outputId": "928af895-aab1-408c-c7b0-c7fe4b8a0f5a"
      },
      "execution_count": 6,
      "outputs": [
        {
          "output_type": "stream",
          "name": "stdout",
          "text": [
            "[1, 3, 5, 7, 9]\n"
          ]
        }
      ]
    },
    {
      "cell_type": "code",
      "source": [
        "numbers = list(range(10,1,-2))\n",
        "print(numbers)"
      ],
      "metadata": {
        "colab": {
          "base_uri": "https://localhost:8080/"
        },
        "id": "r8X8InKXgVDv",
        "outputId": "df6bf4e1-e2a5-446f-cd64-839fd49f7343"
      },
      "execution_count": 7,
      "outputs": [
        {
          "output_type": "stream",
          "name": "stdout",
          "text": [
            "[10, 8, 6, 4, 2]\n"
          ]
        }
      ]
    },
    {
      "cell_type": "code",
      "source": [
        "numbers = list(range(10,1,-2))\n",
        "print(numbers)\n",
        "\n",
        "n = 0\n",
        "\n",
        "for item in numbers:\n",
        "  print(f'Item #{n + 1} is {item} and {item} squared is {item * item}')\n",
        "  n += 1"
      ],
      "metadata": {
        "colab": {
          "base_uri": "https://localhost:8080/"
        },
        "id": "R4MRcxvagnaG",
        "outputId": "628f6db9-eca9-40d7-a3eb-9cd9a7c9f723"
      },
      "execution_count": 15,
      "outputs": [
        {
          "output_type": "stream",
          "name": "stdout",
          "text": [
            "[10, 8, 6, 4, 2]\n",
            "Item #1 is 10 and 10 squared is 100\n",
            "Item #2 is 8 and 8 squared is 64\n",
            "Item #3 is 6 and 6 squared is 36\n",
            "Item #4 is 4 and 4 squared is 16\n",
            "Item #5 is 2 and 2 squared is 4\n"
          ]
        }
      ]
    },
    {
      "cell_type": "code",
      "source": [
        "for i in range(9):\n",
        "  print(f\"Subject {i + 1}:\")\n"
      ],
      "metadata": {
        "colab": {
          "base_uri": "https://localhost:8080/"
        },
        "id": "zl1vHFdjiPZB",
        "outputId": "c5cf59ee-17f9-4700-e7db-e6037c302e97"
      },
      "execution_count": 20,
      "outputs": [
        {
          "output_type": "stream",
          "name": "stdout",
          "text": [
            "Subject 1:\n",
            "Subject 2:\n",
            "Subject 3:\n",
            "Subject 4:\n",
            "Subject 5:\n",
            "Subject 6:\n",
            "Subject 7:\n",
            "Subject 8:\n",
            "Subject 9:\n"
          ]
        }
      ]
    },
    {
      "cell_type": "code",
      "source": [
        "x = 1\n",
        "\n",
        "while x < 15:\n",
        "  print(x)\n",
        "  x = x + 1"
      ],
      "metadata": {
        "colab": {
          "base_uri": "https://localhost:8080/"
        },
        "id": "NX2nJc5ki6Jo",
        "outputId": "7a832dec-9b32-4ad8-a724-7f40cbdfe8d1"
      },
      "execution_count": 23,
      "outputs": [
        {
          "output_type": "stream",
          "name": "stdout",
          "text": [
            "1\n",
            "2\n",
            "3\n",
            "4\n",
            "5\n",
            "6\n",
            "7\n",
            "8\n",
            "9\n",
            "10\n",
            "11\n",
            "12\n",
            "13\n",
            "14\n"
          ]
        }
      ]
    },
    {
      "cell_type": "code",
      "source": [
        "fruits = []\n",
        "\n",
        "# Add item\n",
        "fruits.append(\"Guava\")\n",
        "fruits.append(\"Orange\")\n",
        "fruits.append(\"Apple\")\n",
        "\n",
        "print(fruits)\n",
        "\n",
        "# Insert item\n",
        "fruits.insert(0, \"Cherry\")\n",
        "\n",
        "print(fruits)\n",
        "\n",
        "# Pop item\n",
        "fruits.pop()\n",
        "print(fruits)\n",
        "\n",
        "# Remove item\n",
        "fruits.remove(\"Guava\")\n",
        "print(fruits)\n",
        "\n",
        "# Clear the list\n",
        "fruits.clear()\n",
        "print(fruits)"
      ],
      "metadata": {
        "colab": {
          "base_uri": "https://localhost:8080/"
        },
        "id": "i9iCRefdj7YY",
        "outputId": "20c5cd2e-0d1d-4e5e-cd45-c687b1880892"
      },
      "execution_count": 29,
      "outputs": [
        {
          "output_type": "stream",
          "name": "stdout",
          "text": [
            "['Guava', 'Orange', 'Apple']\n",
            "['Cherry', 'Guava', 'Orange', 'Apple']\n",
            "['Cherry', 'Guava', 'Orange']\n",
            "['Cherry', 'Orange']\n",
            "[]\n"
          ]
        }
      ]
    },
    {
      "cell_type": "code",
      "source": [
        "freshFruits = ['Cherry', 'Guava', 'Orange', 'Apple']\n",
        "print(freshFruits)"
      ],
      "metadata": {
        "colab": {
          "base_uri": "https://localhost:8080/"
        },
        "id": "x9EPtzPzlS_A",
        "outputId": "c48c5a26-a9b4-4d78-f8bf-80e49aa86a17"
      },
      "execution_count": 30,
      "outputs": [
        {
          "output_type": "stream",
          "name": "stdout",
          "text": [
            "['Cherry', 'Guava', 'Orange', 'Apple']\n"
          ]
        }
      ]
    },
    {
      "cell_type": "code",
      "source": [
        "# print the 3rd item\n",
        "print(freshFruits[2])"
      ],
      "metadata": {
        "colab": {
          "base_uri": "https://localhost:8080/"
        },
        "id": "k4-Q7H1KlcKW",
        "outputId": "4fb5cd87-41bd-476a-9768-cf51ca6d6c04"
      },
      "execution_count": 31,
      "outputs": [
        {
          "output_type": "stream",
          "name": "stdout",
          "text": [
            "Orange\n"
          ]
        }
      ]
    },
    {
      "cell_type": "code",
      "source": [
        "# print the 3rd item\n",
        "print(freshFruits[-2])"
      ],
      "metadata": {
        "colab": {
          "base_uri": "https://localhost:8080/"
        },
        "id": "bNiHGKqBlwce",
        "outputId": "c91afe9f-bd7b-40cd-d9ad-f010883462cd"
      },
      "execution_count": 34,
      "outputs": [
        {
          "output_type": "stream",
          "name": "stdout",
          "text": [
            "Orange\n"
          ]
        }
      ]
    },
    {
      "cell_type": "code",
      "source": [
        "# print the last item\n",
        "print(freshFruits[3])"
      ],
      "metadata": {
        "colab": {
          "base_uri": "https://localhost:8080/"
        },
        "id": "i-2J1aKJlldh",
        "outputId": "525193c1-9e40-483a-be40-aafb5179cb23"
      },
      "execution_count": 32,
      "outputs": [
        {
          "output_type": "stream",
          "name": "stdout",
          "text": [
            "Apple\n"
          ]
        }
      ]
    },
    {
      "cell_type": "code",
      "source": [
        "# print the last item\n",
        "print(freshFruits[-1])"
      ],
      "metadata": {
        "colab": {
          "base_uri": "https://localhost:8080/"
        },
        "id": "VBjtVdnXlqsd",
        "outputId": "01f24043-4344-4335-8d41-64a6eee82626"
      },
      "execution_count": 33,
      "outputs": [
        {
          "output_type": "stream",
          "name": "stdout",
          "text": [
            "Apple\n"
          ]
        }
      ]
    },
    {
      "cell_type": "code",
      "source": [
        "# print the 3rd item and beyond\n",
        "print(freshFruits[2:])"
      ],
      "metadata": {
        "colab": {
          "base_uri": "https://localhost:8080/"
        },
        "id": "4thsiPwJl8gt",
        "outputId": "b7882123-ea24-4ea0-da8a-e5e28bd29ff5"
      },
      "execution_count": 35,
      "outputs": [
        {
          "output_type": "stream",
          "name": "stdout",
          "text": [
            "['Orange', 'Apple']\n"
          ]
        }
      ]
    },
    {
      "cell_type": "code",
      "source": [
        "# print from the end of the list but jump 2 steps\n",
        "# ['Cherry', 'Guava', 'Orange', 'Apple']\n",
        "print(freshFruits[-1::-2])"
      ],
      "metadata": {
        "colab": {
          "base_uri": "https://localhost:8080/"
        },
        "id": "GqHxPT3WmLpU",
        "outputId": "426ff3e1-369e-48dd-8963-f192b0b36cd9"
      },
      "execution_count": 36,
      "outputs": [
        {
          "output_type": "stream",
          "name": "stdout",
          "text": [
            "['Apple', 'Guava']\n"
          ]
        }
      ]
    },
    {
      "cell_type": "code",
      "source": [
        "result = \"Bread\" in fruits\n",
        "print(result)"
      ],
      "metadata": {
        "colab": {
          "base_uri": "https://localhost:8080/"
        },
        "id": "HbmkWBcumkN1",
        "outputId": "a4894ed0-6380-43be-8eec-5b6cbe0fe4f3"
      },
      "execution_count": 37,
      "outputs": [
        {
          "output_type": "stream",
          "name": "stdout",
          "text": [
            "False\n"
          ]
        }
      ]
    },
    {
      "cell_type": "code",
      "source": [
        "studentList = []\n",
        "chemistryList = []\n",
        "physicsList = []\n",
        "biologyList = []\n",
        "englishList = []\n",
        "totalList = []\n",
        "\n",
        "confirm = \"yes\"\n",
        "\n",
        "while confirm.upper() == \"YES\":\n",
        "  studentName = input(\"Enter student name: \")\n",
        "  studentList.append(studentName)\n",
        "\n",
        "  print(\"\")\n",
        "  print(\"Enter marks for each subject:\")\n",
        "  print(\"\")\n",
        "  chemistryMark = int(input(\"Enter chemistry mark: \"))\n",
        "  chemistryList.append(chemistryMark)\n",
        "\n",
        "  physicsMark = int(input(\"Enter physics mark: \"))\n",
        "  physicsList.append(physicsMark)\n",
        "\n",
        "  biologyMark = int(input(\"Enter biology mark: \"))\n",
        "  biologyList.append(biologyMark)\n",
        "\n",
        "  englishMark = int(input(\"Enter english mark: \"))\n",
        "  englishList.append(englishMark)\n",
        "\n",
        "  total = chemistryMark + physicsMark + biologyMark + englishMark\n",
        "  totalList.append(total)\n",
        "\n",
        "  print(\"\")\n",
        "  confirm = input(\"Do you want to add another student? (yes/no): \")\n",
        "\n",
        "print(\"\")\n",
        "studentSize = len(studentList)\n",
        "\n",
        "for item in range(studentSize):\n",
        "  print(\"*****************UTME 2024*****************\")\n",
        "  print(\"\")\n",
        "  print(f\"Student Number: {item + 1}\")\n",
        "  print(\"\")\n",
        "  print(f\"Student Name: {studentList[item]}\")\n",
        "  print(\"\")\n",
        "  print(\"*****************MARKS*****************\")\n",
        "  print(\"\")\n",
        "  print(f\"Chemistry Mark: {chemistryList[item]}\")\n",
        "  print(f\"Physics Mark: {physicsList[item]}\")\n",
        "  print(f\"Biology Mark: {biologyList[item]}\")\n",
        "  print(f\"English Mark: {englishList[item]}\")\n",
        "  print(\"*************************************\")\n",
        "  print(f\"Total Mark: {totalList[item]}\")\n",
        "  print(\"*************************************\")\n",
        "  print(\"\")\n",
        "  print(\"\")\n"
      ],
      "metadata": {
        "colab": {
          "base_uri": "https://localhost:8080/"
        },
        "id": "M_mx6t0ynDZE",
        "outputId": "dee96fd9-4741-4209-9bbf-f4e1d82c0752"
      },
      "execution_count": 42,
      "outputs": [
        {
          "output_type": "stream",
          "name": "stdout",
          "text": [
            "Enter student name: Ayodele\n",
            "\n",
            "Enter marks for each subject:\n",
            "\n",
            "Enter chemistry mark: 89\n",
            "Enter physics mark: 78\n",
            "Enter biology mark: 67\n",
            "Enter english mark: 85\n",
            "\n",
            "Do you want to add another student? (yes/no): yes\n",
            "Enter student name: Chinyere\n",
            "\n",
            "Enter marks for each subject:\n",
            "\n",
            "Enter chemistry mark: 89\n",
            "Enter physics mark: 97\n",
            "Enter biology mark: 86\n",
            "Enter english mark: 79\n",
            "\n",
            "Do you want to add another student? (yes/no): no\n",
            "\n",
            "*****************UTME 2024*****************\n",
            "\n",
            "Student Number: 1\n",
            "\n",
            "Student Name: Ayodele\n",
            "\n",
            "*****************MARKS*****************\n",
            "\n",
            "Chemistry Mark: 89\n",
            "Physics Mark: 78\n",
            "Biology Mark: 67\n",
            "English Mark: 85\n",
            "*************************************\n",
            "Total Mark: 319\n",
            "*************************************\n",
            "\n",
            "\n",
            "*****************UTME 2024*****************\n",
            "\n",
            "Student Number: 2\n",
            "\n",
            "Student Name: Chinyere\n",
            "\n",
            "*****************MARKS*****************\n",
            "\n",
            "Chemistry Mark: 89\n",
            "Physics Mark: 97\n",
            "Biology Mark: 86\n",
            "English Mark: 79\n",
            "*************************************\n",
            "Total Mark: 351\n",
            "*************************************\n",
            "\n",
            "\n"
          ]
        }
      ]
    },
    {
      "cell_type": "code",
      "source": [
        "while True:\n",
        "  number = int(input(\"Enter a number: \"))\n",
        "\n",
        "  if number > 100:\n",
        "    print(\"Invalid number. 100 is the maximum allowed.\")\n",
        "  elif number < 0:\n",
        "    print(\"Invalid number. 0 is the minimum allowed.\")\n",
        "  else:\n",
        "    print(f\"The number is {number}\")\n",
        "    break"
      ],
      "metadata": {
        "colab": {
          "base_uri": "https://localhost:8080/"
        },
        "id": "kylNtHEXrOOW",
        "outputId": "80862ab9-e9ee-4ae6-ccdf-4238ca3de8c6"
      },
      "execution_count": 52,
      "outputs": [
        {
          "output_type": "stream",
          "name": "stdout",
          "text": [
            "Enter a number: 103\n",
            "Invalid number. 100 is the maximum allowed.\n",
            "Enter a number: -123\n",
            "Invalid number. 0 is the minimum allowed.\n",
            "Enter a number: 79\n",
            "The number is 79\n"
          ]
        }
      ]
    },
    {
      "cell_type": "code",
      "source": [
        "studentList = []\n",
        "chemistryList = []\n",
        "physicsList = []\n",
        "biologyList = []\n",
        "englishList = []\n",
        "totalList = []\n",
        "\n",
        "confirm = \"yes\"\n",
        "\n",
        "while confirm.upper() == \"YES\":\n",
        "  studentName = input(\"Enter student name: \")\n",
        "  studentList.append(studentName)\n",
        "\n",
        "  print(\"\")\n",
        "  print(\"Enter marks for each subject:\")\n",
        "  print(\"\")\n",
        "  # Validation script for chemistry\n",
        "  while True:\n",
        "    chemistryMark = int(input(\"Enter score for CHEMISTRY: \"))\n",
        "\n",
        "    if chemistryMark > 100:\n",
        "      print(\"Invalid number. 100 is the maximum allowed.\")\n",
        "    elif chemistryMark < 0:\n",
        "      print(\"Invalid number. 0 is the minimum allowed.\")\n",
        "    else:\n",
        "      chemistryList.append(chemistryMark)\n",
        "      break\n",
        "\n",
        "  # Validation script for physics\n",
        "  while True:\n",
        "    physicsMark = int(input(\"Enter score for PHYSICS: \"))\n",
        "\n",
        "    if physicsMark > 100:\n",
        "      print(\"Invalid number. 100 is the maximum allowed.\")\n",
        "    elif physicsMark < 0:\n",
        "      print(\"Invalid number. 0 is the minimum allowed.\")\n",
        "    else:\n",
        "      physicsList.append(physicsMark)\n",
        "      break\n",
        "\n",
        "  # Validation script for biology\n",
        "  while True:\n",
        "    biologyMark = int(input(\"Enter score for BIOLOGY: \"))\n",
        "\n",
        "    if biologyMark > 100:\n",
        "      print(\"Invalid number. 100 is the maximum allowed.\")\n",
        "    elif biologyMark < 0:\n",
        "      print(\"Invalid number. 0 is the minimum allowed.\")\n",
        "    else:\n",
        "      biologyList.append(biologyMark)\n",
        "      break\n",
        "\n",
        "  # Validation script for ENG\n",
        "  while True:\n",
        "    englishMark = int(input(\"Enter score in ENGLISH: \"))\n",
        "\n",
        "    if englishMark > 100:\n",
        "      print(\"Invalid number. 100 is the maximum allowed.\")\n",
        "    elif englishMark < 0:\n",
        "      print(\"Invalid number. 0 is the minimum allowed.\")\n",
        "    else:\n",
        "      englishList.append(englishMark)\n",
        "      break\n",
        "\n",
        "  # PROCESS\n",
        "  total = chemistryMark + physicsMark + biologyMark + englishMark\n",
        "  totalList.append(total)\n",
        "\n",
        "  print(\"\")\n",
        "  confirm = input(\"Do you want to add another student? (yes/no): \")\n",
        "\n",
        "print(\"\")\n",
        "studentSize = len(studentList)\n",
        "\n",
        "# OUTPUT\n",
        "for item in range(studentSize):\n",
        "  print(\"*****************UTME 2024*****************\")\n",
        "  print(\"\")\n",
        "  print(f\"Student Number: {item + 1}\")\n",
        "  print(\"\")\n",
        "  print(f\"Student Name: {studentList[item]}\")\n",
        "  print(\"\")\n",
        "  print(\"*****************MARKS*****************\")\n",
        "  print(\"\")\n",
        "  print(f\"Chemistry Mark: {chemistryList[item]}\")\n",
        "  print(f\"Physics Mark: {physicsList[item]}\")\n",
        "  print(f\"Biology Mark: {biologyList[item]}\")\n",
        "  print(f\"English Mark: {englishList[item]}\")\n",
        "  print(\"*************************************\")\n",
        "  print(f\"Total Mark: {totalList[item]}\")\n",
        "  print(\"*************************************\")\n",
        "  print(\"\")\n",
        "  print(\"\")\n"
      ],
      "metadata": {
        "colab": {
          "base_uri": "https://localhost:8080/"
        },
        "id": "MO6xPEXLs-rD",
        "outputId": "56b86301-4fb7-4666-f4c5-b974e2e80a13"
      },
      "execution_count": 53,
      "outputs": [
        {
          "output_type": "stream",
          "name": "stdout",
          "text": [
            "Enter student name: Chinyere\n",
            "\n",
            "Enter marks for each subject:\n",
            "\n",
            "Enter score for CHEMISTRY: 123\n",
            "Invalid number. 100 is the maximum allowed.\n",
            "Enter score for CHEMISTRY: 78\n",
            "Enter score for PHYSICS: 78\n",
            "Enter score for BIOLOGY: 90\n",
            "Enter score in ENGLISH: 98\n",
            "\n",
            "Do you want to add another student? (yes/no): no\n",
            "\n",
            "*****************UTME 2024*****************\n",
            "\n",
            "Student Number: 1\n",
            "\n",
            "Student Name: Chinyere\n",
            "\n",
            "*****************MARKS*****************\n",
            "\n",
            "Chemistry Mark: 78\n",
            "Physics Mark: 78\n",
            "Biology Mark: 90\n",
            "English Mark: 98\n",
            "*************************************\n",
            "Total Mark: 344\n",
            "*************************************\n",
            "\n",
            "\n"
          ]
        }
      ]
    },
    {
      "cell_type": "code",
      "source": [
        "# Write a robust code in python to handle retail of items in a a virtual store\n"
      ],
      "metadata": {
        "id": "-JAxYrQgvHJs"
      },
      "execution_count": null,
      "outputs": []
    },
    {
      "cell_type": "markdown",
      "source": [
        "DICTIONARY. FUNCTIONS. PANDAS"
      ],
      "metadata": {
        "id": "09EdLKDHvvcQ"
      }
    }
  ]
}