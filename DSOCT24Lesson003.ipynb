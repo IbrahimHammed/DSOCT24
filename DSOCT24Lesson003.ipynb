{
  "nbformat": 4,
  "nbformat_minor": 0,
  "metadata": {
    "colab": {
      "provenance": [],
      "authorship_tag": "ABX9TyOMervLTaywLExcQ34uDm6Q",
      "include_colab_link": true
    },
    "kernelspec": {
      "name": "python3",
      "display_name": "Python 3"
    },
    "language_info": {
      "name": "python"
    }
  },
  "cells": [
    {
      "cell_type": "markdown",
      "metadata": {
        "id": "view-in-github",
        "colab_type": "text"
      },
      "source": [
        "<a href=\"https://colab.research.google.com/github/IbrahimHammed/DSOCT24/blob/main/DSOCT24Lesson003.ipynb\" target=\"_parent\"><img src=\"https://colab.research.google.com/assets/colab-badge.svg\" alt=\"Open In Colab\"/></a>"
      ]
    },
    {
      "cell_type": "code",
      "execution_count": null,
      "metadata": {
        "id": "OO7zbIcA64lA"
      },
      "outputs": [],
      "source": [
        "# LOGICAL OPERATORS: AND, OR, NOT\n",
        "# TRUTH TABLE"
      ]
    },
    {
      "cell_type": "code",
      "source": [
        "# AND\n",
        "# TRUE AND TRUE = TRUE\n",
        "# TRUE AND FALSE = FALSE\n",
        "# FALSE AND TRUE = FALSE\n",
        "# FALSE AND FALSE = FALSE\n",
        "\n",
        "# (TRUE AND TRUE) AND (TRUE AND TRUE) = TRUE\n",
        "# (TRUE AND TRUE) AND (TRUE AND FALSE) = FALSE\n",
        "# (TRUE AND TRUE) AND (FALSE AND FALSE) = FALSE\n",
        "# TRUE AND FALSE AND FALSE AND FALSE = FALSE\n",
        "# FALSE AND FALSE AND FALSE AND FALSE = FALSE"
      ],
      "metadata": {
        "id": "oE_BHiFc7WU4"
      },
      "execution_count": null,
      "outputs": []
    },
    {
      "cell_type": "code",
      "source": [
        "# OR\n",
        "# TRUE OR TRUE = TRUE\n",
        "# TRUE OR FALSE = TRUE\n",
        "# FALSE OR TRUE = TRUE\n",
        "# FALSE OR FALSE = FALSE"
      ],
      "metadata": {
        "id": "7nclhivF7a1v"
      },
      "execution_count": null,
      "outputs": []
    },
    {
      "cell_type": "code",
      "source": [
        "age = 21\n",
        "\n",
        "if age >= 18:\n",
        "    print(\"Congrats! You are eligible to vote.\")\n",
        "else:\n",
        "    print(\"Oops! You are not eligible to vote.\")"
      ],
      "metadata": {
        "colab": {
          "base_uri": "https://localhost:8080/"
        },
        "id": "fg8lEK849gav",
        "outputId": "90c88130-8b47-4908-af81-6706d2f860a1"
      },
      "execution_count": null,
      "outputs": [
        {
          "output_type": "stream",
          "name": "stdout",
          "text": [
            "Congrats! You are eligible to vote.\n"
          ]
        }
      ]
    },
    {
      "cell_type": "code",
      "source": [
        "score = 67\n",
        "\n",
        "if score >= 75:\n",
        "    print(\"Congrats! You got an A1.\")\n",
        "elif score >= 70:\n",
        "    print(\"Congrats! You got an A2.\")\n",
        "elif score >= 65:\n",
        "    print(\"Congrats! You got an A3.\")\n",
        "elif score >= 60:\n",
        "    print(\"Congrats! You got a C4.\")\n",
        "elif score >= 55:\n",
        "    print(\"Congrats! You got a C5.\")\n",
        "elif score >= 50:\n",
        "    print(\"Congrats! You got a C6.\")\n",
        "elif score >= 45:\n",
        "    print(\"Congrats! You got a P7.\")\n",
        "elif score >= 40:\n",
        "    print(\"Congrats! You got a P8.\")\n",
        "elif score >= 0:\n",
        "    print(\"Oops! You got F9.\")\n",
        "else:\n",
        "    print(\"Invalid score.\")"
      ],
      "metadata": {
        "colab": {
          "base_uri": "https://localhost:8080/"
        },
        "id": "UZexaU5L-JZN",
        "outputId": "699eb7f9-b51c-43b8-a773-f0b733126fbd"
      },
      "execution_count": null,
      "outputs": [
        {
          "output_type": "stream",
          "name": "stdout",
          "text": [
            "Congrats! You got a A3.\n"
          ]
        }
      ]
    },
    {
      "cell_type": "code",
      "source": [
        "# Recruitment validator\n",
        "nysc_status = \"done\"\n",
        "min_age = 25\n",
        "grade = \"First class\"\n",
        "\n",
        "candidate_nysc_status = \"done\"\n",
        "candidate_age = 22\n",
        "candidate_grade = \"First class\"\n",
        "\n",
        "if (candidate_nysc_status == nysc_status) and (candidate_age <= min_age) and (candidate_grade == grade):\n",
        "    print(\"Congrats! You are eligible for the interview.\")\n",
        "else:\n",
        "    print(\"Oops! You are not eligible for the interview.\")"
      ],
      "metadata": {
        "colab": {
          "base_uri": "https://localhost:8080/"
        },
        "id": "UZjOtTAM_c4j",
        "outputId": "600c787c-164c-42bb-f1b5-8dfa40b8e71a"
      },
      "execution_count": null,
      "outputs": [
        {
          "output_type": "stream",
          "name": "stdout",
          "text": [
            "Congrats! You are eligible for the interview.\n"
          ]
        }
      ]
    },
    {
      "cell_type": "code",
      "source": [
        "# Recruitment validator\n",
        "nysc_status = \"done\"\n",
        "min_age = 25\n",
        "acceptable_grades = [\"First class\", \"Second class\"]\n",
        "\n",
        "candidate_nysc_status = \"done\"\n",
        "candidate_age = 22\n",
        "candidate_grade = \"Second class\"\n",
        "\n",
        "if (candidate_nysc_status == nysc_status) and (candidate_age <= min_age) and (candidate_grade in acceptable_grades):\n",
        "    print(\"Congrats! You are eligible for the interview.\")\n",
        "else:\n",
        "    print(\"Oops! You are not eligible for the interview.\")"
      ],
      "metadata": {
        "colab": {
          "base_uri": "https://localhost:8080/"
        },
        "id": "SF_ThHC3A3ri",
        "outputId": "ce7e9228-5ac0-449f-f7bd-4508396c2944"
      },
      "execution_count": null,
      "outputs": [
        {
          "output_type": "stream",
          "name": "stdout",
          "text": [
            "Congrats! You are eligible for the interview.\n"
          ]
        }
      ]
    },
    {
      "cell_type": "code",
      "source": [
        "# Recruitment validator\n",
        "nysc_status = \"done\"\n",
        "min_age = 25\n",
        "acceptable_grades = [\"First class\", \"Second class\"]\n",
        "\n",
        "candidate_nysc_status = \"done\"\n",
        "candidate_age = 22\n",
        "candidate_grade = \"Third class\"\n",
        "\n",
        "if (candidate_nysc_status == nysc_status) and (candidate_age <= min_age) and (candidate_grade in acceptable_grades):\n",
        "    print(\"Congrats! You are eligible for the interview.\")\n",
        "else:\n",
        "    print(\"Oops! You are not eligible for the interview.\")"
      ],
      "metadata": {
        "colab": {
          "base_uri": "https://localhost:8080/"
        },
        "id": "hHPvG42rBPRh",
        "outputId": "0aa71590-98d0-4654-c901-5ad4bc063a2d"
      },
      "execution_count": null,
      "outputs": [
        {
          "output_type": "stream",
          "name": "stdout",
          "text": [
            "Oops! You are not eligible for the interview.\n"
          ]
        }
      ]
    },
    {
      "cell_type": "code",
      "source": [
        "# Write a code that processes retail of any item but it should give discounts of 3% if quantity is greater than 100 or discount of 4% if total amount is greater than NGN50,000\n",
        "# You can go as far as indicating VAT at 7.5% and other relevant details"
      ],
      "metadata": {
        "id": "a_xmgCV_B_6N"
      },
      "execution_count": null,
      "outputs": []
    }
  ]
}