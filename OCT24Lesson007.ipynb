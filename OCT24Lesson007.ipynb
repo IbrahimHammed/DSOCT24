{
  "nbformat": 4,
  "nbformat_minor": 0,
  "metadata": {
    "colab": {
      "provenance": [],
      "authorship_tag": "ABX9TyPjm4+/4DikkmlMP8XWAM96",
      "include_colab_link": true
    },
    "kernelspec": {
      "name": "python3",
      "display_name": "Python 3"
    },
    "language_info": {
      "name": "python"
    }
  },
  "cells": [
    {
      "cell_type": "markdown",
      "metadata": {
        "id": "view-in-github",
        "colab_type": "text"
      },
      "source": [
        "<a href=\"https://colab.research.google.com/github/IbrahimHammed/DSOCT24/blob/main/OCT24Lesson007.ipynb\" target=\"_parent\"><img src=\"https://colab.research.google.com/assets/colab-badge.svg\" alt=\"Open In Colab\"/></a>"
      ]
    },
    {
      "cell_type": "code",
      "execution_count": null,
      "metadata": {
        "id": "HlRA9FXe5xHL"
      },
      "outputs": [],
      "source": [
        "# FUNCTIONS: built-in, custom\n",
        "print(\"This message\")\n",
        "x = input(\"Send me a value in number.\")"
      ]
    },
    {
      "cell_type": "code",
      "source": [
        "import statistics as st\n",
        "import math as m\n",
        "\n",
        "numbers = [1,2,3,4,5,6,7,8,9,10]\n",
        "average = sum(numbers)/len(numbers)\n",
        "print(average)\n",
        "\n",
        "avg_2 = st.mean(numbers)\n",
        "print(avg_2)\n",
        "\n",
        "print(m.sqrt(4))"
      ],
      "metadata": {
        "colab": {
          "base_uri": "https://localhost:8080/"
        },
        "id": "bYvUTL4d6Xl2",
        "outputId": "65ba36df-89a1-4442-d9bd-97a3966975bf"
      },
      "execution_count": 2,
      "outputs": [
        {
          "output_type": "stream",
          "name": "stdout",
          "text": [
            "5.5\n",
            "5.5\n",
            "2.0\n"
          ]
        }
      ]
    },
    {
      "cell_type": "code",
      "source": [
        "def greetUser():\n",
        "  print(\"Hello there!\")"
      ],
      "metadata": {
        "id": "DwmzUXyk77zu"
      },
      "execution_count": 3,
      "outputs": []
    },
    {
      "cell_type": "code",
      "source": [
        "# Invoke the function\n",
        "greetUser()"
      ],
      "metadata": {
        "colab": {
          "base_uri": "https://localhost:8080/"
        },
        "id": "BYfel5F68kJd",
        "outputId": "5c7bc40f-260f-4cda-ab8a-0997fafa0430"
      },
      "execution_count": 4,
      "outputs": [
        {
          "output_type": "stream",
          "name": "stdout",
          "text": [
            "Hello there!\n"
          ]
        }
      ]
    },
    {
      "cell_type": "code",
      "source": [
        "def greetUser(name):\n",
        "  print(f\"Hello, {name}.\")"
      ],
      "metadata": {
        "id": "HjUJxHU08uQ2"
      },
      "execution_count": 5,
      "outputs": []
    },
    {
      "cell_type": "code",
      "source": [
        "greetUser(\"Kevin\")"
      ],
      "metadata": {
        "colab": {
          "base_uri": "https://localhost:8080/"
        },
        "id": "RDHQ-dJ581ZV",
        "outputId": "f9a1225b-297d-48d8-f981-6d68caec563a"
      },
      "execution_count": 6,
      "outputs": [
        {
          "output_type": "stream",
          "name": "stdout",
          "text": [
            "Hello, Kevin.\n"
          ]
        }
      ]
    },
    {
      "cell_type": "code",
      "source": [
        "def greetUser(name, age):\n",
        "  if age < 18:\n",
        "    print(f\"Sorry, {name}, you are not old enough to use this app.\")\n",
        "  else:\n",
        "    print(f\"Hello, {name}. Registration completed successfully.\")"
      ],
      "metadata": {
        "id": "KzJHtUsK88vt"
      },
      "execution_count": 7,
      "outputs": []
    },
    {
      "cell_type": "code",
      "source": [
        "greetUser(\"Kevin\", 16)"
      ],
      "metadata": {
        "colab": {
          "base_uri": "https://localhost:8080/"
        },
        "id": "mv8w_VAc9RAM",
        "outputId": "53403fcf-2fa3-40aa-d1b8-a9f78fd18d1b"
      },
      "execution_count": 8,
      "outputs": [
        {
          "output_type": "stream",
          "name": "stdout",
          "text": [
            "Sorry, Kevin, you are not old enough to use this app.\n"
          ]
        }
      ]
    },
    {
      "cell_type": "code",
      "source": [
        "greetUser(\"Kevin\", 21)"
      ],
      "metadata": {
        "colab": {
          "base_uri": "https://localhost:8080/"
        },
        "id": "pqjvKraR9Xc1",
        "outputId": "11adf6e6-8250-4c70-d816-7f2ef789c3fa"
      },
      "execution_count": 9,
      "outputs": [
        {
          "output_type": "stream",
          "name": "stdout",
          "text": [
            "Hello, Kevin. Registration completed successfully.\n"
          ]
        }
      ]
    },
    {
      "cell_type": "code",
      "source": [
        "def addnumbers(num1, num2):\n",
        "  num3 = num1 + num2\n",
        "  return num3"
      ],
      "metadata": {
        "id": "iBIOdZjV9vzV"
      },
      "execution_count": 10,
      "outputs": []
    },
    {
      "cell_type": "code",
      "source": [
        "x = 17\n",
        "y = 3\n",
        "\n",
        "result = addnumbers(x, y)\n",
        "print(result)"
      ],
      "metadata": {
        "colab": {
          "base_uri": "https://localhost:8080/"
        },
        "id": "iXpj0--1983T",
        "outputId": "780d6366-2597-459a-c682-e364c0de1a5e"
      },
      "execution_count": 11,
      "outputs": [
        {
          "output_type": "stream",
          "name": "stdout",
          "text": [
            "20\n"
          ]
        }
      ]
    },
    {
      "cell_type": "code",
      "source": [],
      "metadata": {
        "id": "JdEW7Y2N-vQw"
      },
      "execution_count": null,
      "outputs": []
    },
    {
      "cell_type": "code",
      "source": [
        "def getGrade(score):\n",
        "  if score >= 90:\n",
        "    grade = \"A\"\n",
        "  elif score >= 80:\n",
        "    grade = \"B\"\n",
        "  elif score >= 70:\n",
        "    grade = \"C\"\n",
        "  elif score >= 60:\n",
        "    grade = \"D\"\n",
        "  else:\n",
        "    grade = \"F\"\n",
        "\n",
        "  return grade"
      ],
      "metadata": {
        "id": "lP1jjJq9-d37"
      },
      "execution_count": 12,
      "outputs": []
    },
    {
      "cell_type": "code",
      "source": [
        "score = int(input(\"Enter your score: \"))\n",
        "grade = getGrade(score)\n",
        "\n",
        "print(f\"Your grade is {grade}.\")"
      ],
      "metadata": {
        "colab": {
          "base_uri": "https://localhost:8080/"
        },
        "id": "g0FiJS01-4jN",
        "outputId": "f6278437-de70-4329-8e66-5c41439a2c67"
      },
      "execution_count": 16,
      "outputs": [
        {
          "output_type": "stream",
          "name": "stdout",
          "text": [
            "Enter your score: 68\n",
            "Your grade is D.\n"
          ]
        }
      ]
    }
  ]
}