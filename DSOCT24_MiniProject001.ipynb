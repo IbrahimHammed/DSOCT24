{
  "nbformat": 4,
  "nbformat_minor": 0,
  "metadata": {
    "colab": {
      "provenance": [],
      "authorship_tag": "ABX9TyMMr7qmmQebkgaz4O/LMWUN",
      "include_colab_link": true
    },
    "kernelspec": {
      "name": "python3",
      "display_name": "Python 3"
    },
    "language_info": {
      "name": "python"
    }
  },
  "cells": [
    {
      "cell_type": "markdown",
      "metadata": {
        "id": "view-in-github",
        "colab_type": "text"
      },
      "source": [
        "<a href=\"https://colab.research.google.com/github/IbrahimHammed/DSOCT24/blob/main/DSOCT24_MiniProject001.ipynb\" target=\"_parent\"><img src=\"https://colab.research.google.com/assets/colab-badge.svg\" alt=\"Open In Colab\"/></a>"
      ]
    },
    {
      "cell_type": "code",
      "execution_count": null,
      "metadata": {
        "colab": {
          "base_uri": "https://localhost:8080/"
        },
        "id": "QuS6ROtavuzf",
        "outputId": "e9d629fa-6964-4362-c88b-e508c52f5f8e"
      },
      "outputs": [
        {
          "name": "stdout",
          "output_type": "stream",
          "text": [
            "Enter your first name: Kenneth\n",
            "Enter your last name: Okonkwo\n",
            "Enter your birth date (dd/mm/yyyy): 12/06/1993\n",
            "Enter your exam number: NGR/24/001\n",
            "Enter your exam year: 2024\n",
            "Enter your gender (F/M): M\n",
            "Your Score in Maths:78\n",
            "Your Score in Physics:89\n",
            "Your Score in Chemistry:65\n",
            "Your Score in English:46\n"
          ]
        }
      ],
      "source": [
        "# INPUT\n",
        "firstName = input(\"Enter your first name: \")\n",
        "lastName = input(\"Enter your last name: \")\n",
        "doBirth = input(\"Enter your birth date (dd/mm/yyyy): \")\n",
        "examNo = input(\"Enter your exam number: \")\n",
        "examYear = input(\"Enter your exam year: \")\n",
        "gender = input(\"Enter your gender (F/M): \")\n",
        "\n",
        "maths = int(input(\"Your Score in Maths:\"))\n",
        "physics = int(input(\"Your Score in Physics:\"))\n",
        "chemistry = int(input(\"Your Score in Chemistry:\"))\n",
        "english = int(input(\"Your Score in English:\"))\n",
        "\n",
        "\n",
        "# PROCESS\n",
        "totalScore = maths + physics + chemistry + english\n",
        "\n",
        "\n",
        "# OUTPUT\n",
        "print(\"First Name: \" + firstName)\n",
        "print(\"Last Name: \" + lastName)\n",
        "print(\"Birth Date: \" + doBirth)\n",
        "print(\"Exam Number: \" + examNo)\n",
        "print(\"Exam Year: \" + examYear)\n",
        "print(\"Gender: \" + gender)\n",
        "\n",
        "print(\"Maths: \" + str(maths))\n",
        "print(\"Physics: \" + str(physics))\n",
        "print(\"Chemistry: \" + str(chemistry))\n",
        "print(\"English: \" + str(english))\n",
        "\n",
        "print(\"Total Score: \" + str(totalScore))"
      ]
    },
    {
      "cell_type": "code",
      "source": [],
      "metadata": {
        "colab": {
          "base_uri": "https://localhost:8080/"
        },
        "id": "ulQ75APz0xK9",
        "outputId": "b186add0-cfa6-4cce-fa80-901f1a6bd996"
      },
      "execution_count": null,
      "outputs": [
        {
          "output_type": "stream",
          "name": "stdout",
          "text": [
            "****************************************************************************************************\n",
            "         WELCOME TO UTME EXAM SCORE ENGINE POWERED BY RBSN DS2024-OCTOBER BATCH TEAM         \n",
            "****************************************************************************************************\n",
            "\n",
            "\n",
            "\n"
          ]
        }
      ]
    },
    {
      "cell_type": "code",
      "source": [
        "# Version 2\n",
        "# INPUT\n",
        "print(\"*\"* 100)\n",
        "print(\"         WELCOME TO UTME EXAM SCORE ENGINE POWERED BY RBSN DS2024-OCTOBER BATCH TEAM         \")\n",
        "print(\"*\"* 100)\n",
        "print(\"\\n\")\n",
        "\n",
        "firstName = input(\"Enter your first name: \")\n",
        "lastName = input(\"Enter your last name: \")\n",
        "doBirth = input(\"Enter your birth date (dd/mm/yyyy): \")\n",
        "examNo = input(\"Enter your exam number: \")\n",
        "examYear = input(\"Enter your exam year: \")\n",
        "gender = input(\"Enter your gender (F/M): \")\n",
        "\n",
        "print(\"\\n\")\n",
        "\n",
        "maths = int(input(\"Your Score in Maths:\"))\n",
        "physics = int(input(\"Your Score in Physics:\"))\n",
        "chemistry = int(input(\"Your Score in Chemistry:\"))\n",
        "english = int(input(\"Your Score in English:\"))\n",
        "\n",
        "print(\"\\n\")\n",
        "\n",
        "# PROCESS\n",
        "totalScore = maths + physics + chemistry + english\n",
        "\n",
        "\n",
        "# OUTPUT\n",
        "print(\"*\"* 100)\n",
        "print(\"         UNIVERSITY MATRICULATION EXAMINATION (UTME) RESULT         \")\n",
        "print(\"*\"* 100)\n",
        "print(\"\\n\\n\")\n",
        "\n",
        "print(\"Exam Number: \" + examNo)\n",
        "print(\"Exam Year: \" + examYear)\n",
        "print(\"Student's Fullname: \" + firstName + \" \" + lastName)\n",
        "print(\"Gender: \" + gender)\n",
        "print(\"Birth Date: \" + doBirth)\n",
        "\n",
        "print(\"\\n EXAM SCORES \\n\")\n",
        "print(\"Mathematics: \\t{}\".format(maths))\n",
        "print(\"Physics: \\t{}\".format(physics))\n",
        "print(\"Chemistry: \\t{}\".format(chemistry))\n",
        "print(\"English: \\t{}\".format(english))\n",
        "\n",
        "print(\"*\" * 19)\n",
        "print(\"Total Score: \\t{}\".format(totalScore))\n",
        "print(\"*\" * 19)"
      ],
      "metadata": {
        "colab": {
          "base_uri": "https://localhost:8080/"
        },
        "id": "LAt1cvSo0FwZ",
        "outputId": "b0617815-a69e-4ab6-86e0-fd65db628842"
      },
      "execution_count": null,
      "outputs": [
        {
          "output_type": "stream",
          "name": "stdout",
          "text": [
            "****************************************************************************************************\n",
            "         WELCOME TO UTME EXAM SCORE ENGINE POWERED BY RBSN DS2024-OCTOBER BATCH TEAM         \n",
            "****************************************************************************************************\n",
            "\n",
            "\n",
            "Enter your first name: Kenneth\n",
            "Enter your last name: Okonkwo\n",
            "Enter your birth date (dd/mm/yyyy): 12/06/1993\n",
            "Enter your exam number: NGR/EX/24/001\n",
            "Enter your exam year: 2024\n",
            "Enter your gender (F/M): M\n",
            "\n",
            "\n",
            "Your Score in Maths:78\n",
            "Your Score in Physics:78\n",
            "Your Score in Chemistry:78\n",
            "Your Score in English:78\n",
            "\n",
            "\n",
            "****************************************************************************************************\n",
            "         UNIVERSITY MATRICULATION EXAMINATION (UTME) RESULT         \n",
            "****************************************************************************************************\n",
            "\n",
            "\n",
            "\n",
            "Exam Number: NGR/EX/24/001\n",
            "Exam Year: 2024\n",
            "Student's Fullname: Kenneth Okonkwo\n",
            "Gender: M\n",
            "Birth Date: 12/06/1993\n",
            "\n",
            " EXAM SCORES \n",
            "\n",
            "Mathematics: \t78\n",
            "Physics: \t78\n",
            "Chemistry: \t78\n",
            "English: \t78\n",
            "*******************\n",
            "Total Score: \t312\n",
            "*******************\n"
          ]
        }
      ]
    }
  ]
}