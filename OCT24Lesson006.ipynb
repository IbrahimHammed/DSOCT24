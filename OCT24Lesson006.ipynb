{
  "nbformat": 4,
  "nbformat_minor": 0,
  "metadata": {
    "colab": {
      "provenance": [],
      "authorship_tag": "ABX9TyM5uuoLvVi+W0Ewb3TS+ELj",
      "include_colab_link": true
    },
    "kernelspec": {
      "name": "python3",
      "display_name": "Python 3"
    },
    "language_info": {
      "name": "python"
    }
  },
  "cells": [
    {
      "cell_type": "markdown",
      "metadata": {
        "id": "view-in-github",
        "colab_type": "text"
      },
      "source": [
        "<a href=\"https://colab.research.google.com/github/IbrahimHammed/DSOCT24/blob/main/OCT24Lesson006.ipynb\" target=\"_parent\"><img src=\"https://colab.research.google.com/assets/colab-badge.svg\" alt=\"Open In Colab\"/></a>"
      ]
    },
    {
      "cell_type": "code",
      "execution_count": 1,
      "metadata": {
        "id": "PQwdXnVGv9H9"
      },
      "outputs": [],
      "source": [
        "# dictionary: key-value pair of entries\n",
        "# word: meaning\n",
        "# unique: meaning may not necessarily be unique\n",
        "chelsea = {\n",
        "    1:\"Cech\",\n",
        "    20:\"Ferreira\",\n",
        "    3:\"Cole\",\n",
        "    4:\"Makelele\",\n",
        "    5:\"Essien\",\n",
        "    6:\"Ricardo\",\n",
        "    26:\"Terry\",\n",
        "    10:\"Cole\",\n",
        "    8:\"Lampard\",\n",
        "    11:\"Drogba\",\n",
        "    21:\"Mikel\"\n",
        "}\n",
        "\n",
        "months = {\n",
        "    1: \"Jan\",\n",
        "    2: \"Feb\",\n",
        "    3: \"Mar\",\n",
        "    4: \"Apr\",\n",
        "    5: \"May\",\n",
        "    6: \"Jun\",\n",
        "    7: \"Jul\",\n",
        "    8: \"Aug\",\n",
        "    9: \"Sep\",\n",
        "    10: \"Oct\",\n",
        "    11: \"Nov\",\n",
        "    12: \"Dec\"\n",
        "}\n",
        "\n",
        "months2 = {\n",
        "    \"Jan\":1,\n",
        "    \"Feb\":2,\n",
        "    \"Mar\":3,\n",
        "    \"Apr\":4,\n",
        "    \"May\":5,\n",
        "    \"Jun\":6,\n",
        "    \"Jul\":7,\n",
        "    \"Aug\":8,\n",
        "    \"Sep\":9,\n",
        "    \"Oct\":10,\n",
        "    \"Nov\":11,\n",
        "    \"Dec\":12\n",
        "}\n",
        "\n",
        "pricelist = {\n",
        "    \"Bread\": 1500,\n",
        "    \"Milk\": 450,\n",
        "    \"Egg\": 50\n",
        "}"
      ]
    },
    {
      "cell_type": "code",
      "source": [
        "print(pricelist)"
      ],
      "metadata": {
        "colab": {
          "base_uri": "https://localhost:8080/"
        },
        "id": "KxcPQhVrxqyL",
        "outputId": "cfabc7d5-aff6-4278-bfa0-37dab745ef3f"
      },
      "execution_count": 2,
      "outputs": [
        {
          "output_type": "stream",
          "name": "stdout",
          "text": [
            "{'Bread': 1500, 'Milk': 450, 'Egg': 50}\n"
          ]
        }
      ]
    },
    {
      "cell_type": "code",
      "source": [
        "print(pricelist[\"Bread\"])"
      ],
      "metadata": {
        "colab": {
          "base_uri": "https://localhost:8080/"
        },
        "id": "QNAc_Bvix42r",
        "outputId": "339688a3-cbe9-47bf-972b-9251eb7b7649"
      },
      "execution_count": 3,
      "outputs": [
        {
          "output_type": "stream",
          "name": "stdout",
          "text": [
            "1500\n"
          ]
        }
      ]
    },
    {
      "cell_type": "code",
      "source": [
        "print(pricelist.keys())"
      ],
      "metadata": {
        "colab": {
          "base_uri": "https://localhost:8080/"
        },
        "id": "QPSJbWbWyWm9",
        "outputId": "96398f89-5001-4f9b-ccea-87d999b6ea6b"
      },
      "execution_count": 6,
      "outputs": [
        {
          "output_type": "stream",
          "name": "stdout",
          "text": [
            "dict_keys(['Bread', 'Milk', 'Egg'])\n"
          ]
        }
      ]
    },
    {
      "cell_type": "code",
      "source": [
        "print(pricelist.values())"
      ],
      "metadata": {
        "colab": {
          "base_uri": "https://localhost:8080/"
        },
        "id": "-21Xqaf-zkAk",
        "outputId": "275501e8-c553-45b1-d207-3c9bcc0e06a7"
      },
      "execution_count": 7,
      "outputs": [
        {
          "output_type": "stream",
          "name": "stdout",
          "text": [
            "dict_values([1500, 450, 50])\n"
          ]
        }
      ]
    },
    {
      "cell_type": "code",
      "source": [
        "shoppingMallList = {\n",
        "    \"Biscuit\":200,\n",
        "    \"Chocolate\":500,\n",
        "    \"Milk\":2500,\n",
        "    \"Detergent\":1500,\n",
        "    \"Sugar\":300,\n",
        "    \"Bread\":800,\n",
        "    \"Butter\":650,\n",
        "    \"Salt\":100,\n",
        "    \"Tissue\":200,\n",
        "    \"Egg\":250\n",
        "}"
      ],
      "metadata": {
        "id": "q2UA83Fcz6rx"
      },
      "execution_count": 8,
      "outputs": []
    },
    {
      "cell_type": "code",
      "source": [
        "validItems = list(shoppingMallList.keys())\n",
        "print(validItems)"
      ],
      "metadata": {
        "colab": {
          "base_uri": "https://localhost:8080/"
        },
        "id": "p__lLXFp007y",
        "outputId": "f3062870-7519-4675-8d14-35c50134401d"
      },
      "execution_count": 9,
      "outputs": [
        {
          "output_type": "stream",
          "name": "stdout",
          "text": [
            "['Biscuit', 'Chocolate', 'Milk', 'Detergent', 'Sugar', 'Bread', 'Butter', 'Salt', 'Tissue', 'Egg']\n"
          ]
        }
      ]
    },
    {
      "cell_type": "code",
      "source": [
        "# Item validation\n",
        "while True:\n",
        "  item = input(\"Enter item name: \")\n",
        "\n",
        "  if item in validItems:\n",
        "    # Price selection\n",
        "    unitprice = shoppingMallList[item]\n",
        "    break\n",
        "  else:\n",
        "    print(f\"{item} not found. Try again by choosing any of the items below.\")\n",
        "    print(validItems)\n",
        "    continue\n",
        "\n",
        "print(\"\")\n",
        "# Quantity validation\n",
        "while True:\n",
        "  qty = int(input(\"Enter quantity: \"))\n",
        "\n",
        "  if qty > 0:\n",
        "    break\n",
        "  else:\n",
        "    print(\"Quantity must be greater than 0. Try again.\")\n",
        "    continue\n",
        "\n",
        "\n",
        "total = unitprice * qty\n",
        "\n",
        "print(\"\")\n",
        "print(\"Total: \", total)"
      ],
      "metadata": {
        "colab": {
          "base_uri": "https://localhost:8080/"
        },
        "id": "-D8DNUgZ1Kc4",
        "outputId": "30075d90-00fb-41f1-f40e-b1cdf483886c"
      },
      "execution_count": 14,
      "outputs": [
        {
          "output_type": "stream",
          "name": "stdout",
          "text": [
            "Enter item name: Suya\n",
            "Suya not found. Try again by choosing any of the items below.\n",
            "['Biscuit', 'Chocolate', 'Milk', 'Detergent', 'Sugar', 'Bread', 'Butter', 'Salt', 'Tissue', 'Egg']\n",
            "Enter item name: Milk\n",
            "Enter quantity: -12\n",
            "Quantity must be greater than 0. Try again.\n",
            "Enter quantity: 5\n",
            "Total:  12500\n"
          ]
        }
      ]
    }
  ]
}