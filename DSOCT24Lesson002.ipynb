{
  "nbformat": 4,
  "nbformat_minor": 0,
  "metadata": {
    "colab": {
      "provenance": [],
      "authorship_tag": "ABX9TyP+tWKqx7bvXLYPHnReCAPA",
      "include_colab_link": true
    },
    "kernelspec": {
      "name": "python3",
      "display_name": "Python 3"
    },
    "language_info": {
      "name": "python"
    }
  },
  "cells": [
    {
      "cell_type": "markdown",
      "metadata": {
        "id": "view-in-github",
        "colab_type": "text"
      },
      "source": [
        "<a href=\"https://colab.research.google.com/github/IbrahimHammed/DSOCT24/blob/main/DSOCT24Lesson002.ipynb\" target=\"_parent\"><img src=\"https://colab.research.google.com/assets/colab-badge.svg\" alt=\"Open In Colab\"/></a>"
      ]
    },
    {
      "cell_type": "markdown",
      "source": [
        "**Write a codde to add 2 numbers and display the result**"
      ],
      "metadata": {
        "id": "WFJfwBeYl0YM"
      }
    },
    {
      "cell_type": "code",
      "execution_count": 3,
      "metadata": {
        "colab": {
          "base_uri": "https://localhost:8080/"
        },
        "id": "GkKkRFDAlszz",
        "outputId": "a1ec530e-83b6-4c4c-b1d7-df893c889891"
      },
      "outputs": [
        {
          "output_type": "stream",
          "name": "stdout",
          "text": [
            "Enter number 1: 7\n",
            "Enter number 2: 4\n",
            "74\n"
          ]
        }
      ],
      "source": [
        "# Input\n",
        "prompt1 = \"Enter number 1: \"\n",
        "prompt2 = \"Enter number 2: \"\n",
        "\n",
        "number1 = input(prompt1)\n",
        "number2 = input(prompt2)\n",
        "\n",
        "# Process\n",
        "number3 = number1 + number2\n",
        "\n",
        "# Output\n",
        "print(number3)"
      ]
    },
    {
      "cell_type": "code",
      "source": [
        "# Input\n",
        "prompt1 = \"Enter number 1: \"\n",
        "prompt2 = \"Enter number 2: \"\n",
        "\n",
        "number1 = int(input(prompt1))\n",
        "number2 = int(input(prompt2))\n",
        "\n",
        "# Process\n",
        "number3 = number1 + number2\n",
        "\n",
        "# Output\n",
        "print(number3)"
      ],
      "metadata": {
        "colab": {
          "base_uri": "https://localhost:8080/"
        },
        "id": "aYXTaJ2enWhv",
        "outputId": "25026f24-837f-4ab9-871d-b49e3c083689"
      },
      "execution_count": 4,
      "outputs": [
        {
          "output_type": "stream",
          "name": "stdout",
          "text": [
            "Enter number 1: 7\n",
            "Enter number 2: 4\n",
            "11\n"
          ]
        }
      ]
    },
    {
      "cell_type": "code",
      "source": [
        "# Input\n",
        "prompt1 = \"Enter number 1: \"\n",
        "prompt2 = \"Enter number 2: \"\n",
        "\n",
        "number1 = input(prompt1)\n",
        "number2 = input(prompt2)\n",
        "\n",
        "# Process\n",
        "number3 = int(number1) + int(number2)\n",
        "\n",
        "# Output\n",
        "print(number3)"
      ],
      "metadata": {
        "colab": {
          "base_uri": "https://localhost:8080/"
        },
        "id": "AF5UhqeUneTk",
        "outputId": "35e611b8-ffb6-4893-cc24-758f03cd1464"
      },
      "execution_count": 9,
      "outputs": [
        {
          "output_type": "stream",
          "name": "stdout",
          "text": [
            "Enter number 1: 7\n",
            "Enter number 2: 4\n",
            "11\n"
          ]
        }
      ]
    },
    {
      "cell_type": "code",
      "source": [
        "# Input\n",
        "prompt1 = \"Enter number 1: \"\n",
        "prompt2 = \"Enter number 2: \"\n",
        "\n",
        "number1 = float(input(prompt1))\n",
        "number2 = float(input(prompt2))\n",
        "\n",
        "# Process\n",
        "number3 = number1 + number2\n",
        "\n",
        "# Output\n",
        "print(number3)"
      ],
      "metadata": {
        "colab": {
          "base_uri": "https://localhost:8080/"
        },
        "id": "QNWOCaRPn3Y1",
        "outputId": "95786bf2-1f89-4a98-96f9-f8b795256635"
      },
      "execution_count": 10,
      "outputs": [
        {
          "output_type": "stream",
          "name": "stdout",
          "text": [
            "Enter number 1: 7.9\n",
            "Enter number 2: 3.5\n",
            "11.4\n"
          ]
        }
      ]
    },
    {
      "cell_type": "code",
      "source": [
        "# Input\n",
        "prompt1 = \"Enter number 1: \"\n",
        "prompt2 = \"Enter number 2: \"\n",
        "\n",
        "number1 = input(prompt1)\n",
        "number2 = input(prompt2)\n",
        "\n",
        "# Process\n",
        "number3 = float(number1) + float(number2)\n",
        "\n",
        "# Output\n",
        "print(number3)"
      ],
      "metadata": {
        "colab": {
          "base_uri": "https://localhost:8080/"
        },
        "id": "34H4TBvdoJq1",
        "outputId": "f7ae63f9-7230-48ea-bb49-ce02c92b0234"
      },
      "execution_count": 12,
      "outputs": [
        {
          "output_type": "stream",
          "name": "stdout",
          "text": [
            "Enter number 1: 7\n",
            "Enter number 2: 4\n",
            "11.0\n"
          ]
        }
      ]
    },
    {
      "cell_type": "code",
      "source": [
        "# Input\n",
        "msg = \"Enter 2 numbers separated by comma: \"\n",
        "number1, number2 = input(msg).split(\",\")\n",
        "\n",
        "# Process\n",
        "number3 = float(number1) + float(number2)\n",
        "\n",
        "# Output\n",
        "print(number3)"
      ],
      "metadata": {
        "colab": {
          "base_uri": "https://localhost:8080/"
        },
        "id": "1wJZlO9AozKB",
        "outputId": "ef98172d-92fb-4a86-ef00-dde08636f897"
      },
      "execution_count": 15,
      "outputs": [
        {
          "output_type": "stream",
          "name": "stdout",
          "text": [
            "Enter 2 numbers separated by comma: 7,4\n",
            "11.0\n"
          ]
        }
      ]
    },
    {
      "cell_type": "code",
      "source": [
        "# Input\n",
        "msg = \"Enter 2 numbers separated by space: \"\n",
        "number1, number2 = input(msg).split(\" \")\n",
        "\n",
        "# Process\n",
        "number3 = float(number1) + float(number2)\n",
        "\n",
        "# Output\n",
        "print(number3)"
      ],
      "metadata": {
        "colab": {
          "base_uri": "https://localhost:8080/"
        },
        "id": "eGLAfwHuqDzA",
        "outputId": "c69e8582-45ab-4002-df1f-c5af0ee1319d"
      },
      "execution_count": 16,
      "outputs": [
        {
          "output_type": "stream",
          "name": "stdout",
          "text": [
            "Enter 2 numbers separated by space: 3.4 5.6\n",
            "9.0\n"
          ]
        }
      ]
    },
    {
      "cell_type": "code",
      "source": [],
      "metadata": {
        "id": "sb6BAlforKS1"
      },
      "execution_count": null,
      "outputs": []
    },
    {
      "cell_type": "code",
      "source": [
        "# Input\n",
        "length = float(input(\"Length:\"))\n",
        "breadth = float(input(\"Breadth:\"))\n",
        "\n",
        "# Process\n",
        "area = length * breadth\n",
        "\n",
        "# Output\n",
        "print(area)"
      ],
      "metadata": {
        "colab": {
          "base_uri": "https://localhost:8080/"
        },
        "id": "YX_Xt6Xmq84e",
        "outputId": "69b2bfa3-1bfc-4140-a421-96a103ff75c5"
      },
      "execution_count": 17,
      "outputs": [
        {
          "output_type": "stream",
          "name": "stdout",
          "text": [
            "Length:12\n",
            "Breadth:4\n",
            "48.0\n"
          ]
        }
      ]
    },
    {
      "cell_type": "code",
      "source": [
        "# Output formatting\n",
        "quantity = 56\n",
        "unitprice = 3.142\n",
        "\n",
        "amount = quantity * unitprice\n",
        "\n",
        "print(\"Quantity:\", quantity)\n",
        "print(\"Unit Price:\", unitprice)\n",
        "print(\"Amount:\", amount)"
      ],
      "metadata": {
        "colab": {
          "base_uri": "https://localhost:8080/"
        },
        "id": "DlLT20KJr3F6",
        "outputId": "647006ec-163d-4e46-905a-2434ec7d22f9"
      },
      "execution_count": 19,
      "outputs": [
        {
          "output_type": "stream",
          "name": "stdout",
          "text": [
            "Quantity: 56\n",
            "Unit Price: 3.142\n",
            "Amount: 175.952\n"
          ]
        }
      ]
    },
    {
      "cell_type": "code",
      "source": [
        "# Output formatting\n",
        "quantity = 56\n",
        "unitprice = 3.142\n",
        "\n",
        "amount = quantity * unitprice\n",
        "\n",
        "print(\"The value of Quantity {} multiplied by Price {} is {}.\".format(quantity, unitprice, amount))"
      ],
      "metadata": {
        "colab": {
          "base_uri": "https://localhost:8080/"
        },
        "id": "MrcopNh4shBf",
        "outputId": "aed02bf8-3d69-4f40-c18c-1650f695b444"
      },
      "execution_count": 20,
      "outputs": [
        {
          "output_type": "stream",
          "name": "stdout",
          "text": [
            "The value of Quantity 56 multiplied by Price 3.142 is 175.952.\n"
          ]
        }
      ]
    },
    {
      "cell_type": "code",
      "source": [
        "# Output formatting\n",
        "quantity = 56\n",
        "unitprice = 3.142\n",
        "\n",
        "amount = quantity * unitprice\n",
        "\n",
        "print(f\"The value of Quantity {quantity} multiplied by Price {unitprice} is {amount}.\")"
      ],
      "metadata": {
        "colab": {
          "base_uri": "https://localhost:8080/"
        },
        "id": "O3_Ed3x7tNc3",
        "outputId": "6861f2ee-b8ba-4382-bd47-6cc03a62f69c"
      },
      "execution_count": 21,
      "outputs": [
        {
          "output_type": "stream",
          "name": "stdout",
          "text": [
            "The value of Quantity 56 multiplied by Price 3.142 is 175.952.\n"
          ]
        }
      ]
    },
    {
      "cell_type": "code",
      "source": [
        "# Output formatting\n",
        "quantity = 2561\n",
        "unitprice = 7863.142\n",
        "\n",
        "amount = quantity * unitprice\n",
        "\n",
        "print(f\"The value of Quantity {quantity:,.0f} multiplied by Price NGN{unitprice:,.2f} is NGN{amount:,.2f}.\")"
      ],
      "metadata": {
        "colab": {
          "base_uri": "https://localhost:8080/"
        },
        "id": "Eyd7kNJXt8xP",
        "outputId": "081764ef-9f99-499e-ea02-8700d709d016"
      },
      "execution_count": 34,
      "outputs": [
        {
          "output_type": "stream",
          "name": "stdout",
          "text": [
            "The value of Quantity 2,561 multiplied by Price NGN7,863.14 is NGN20,137,506.66.\n"
          ]
        }
      ]
    },
    {
      "cell_type": "markdown",
      "source": [
        "**Mini-Exercise: Write a code to process purchase of any given item from your store**"
      ],
      "metadata": {
        "id": "U5Kx-46GwOzt"
      }
    },
    {
      "cell_type": "code",
      "source": [
        "# Input\n",
        "customername = input(\"Customer name:\")\n",
        "item = input(\"Item Purchased:\")\n",
        "price = float(input(\"Price:\"))\n",
        "quantity = int(input(\"Quantity:\"))\n",
        "\n",
        "# Process\n",
        "salesValue = price * quantity\n",
        "\n",
        "# Output\n",
        "print(f\"{customername} purchased {quantity} units of {item} at NGN{price:,.2f} for NGN{salesValue:,.2f}.\")\n"
      ],
      "metadata": {
        "colab": {
          "base_uri": "https://localhost:8080/"
        },
        "id": "7VyKmEllwWY7",
        "outputId": "07bf1481-d1ab-4956-8507-a7e15a753651"
      },
      "execution_count": 36,
      "outputs": [
        {
          "output_type": "stream",
          "name": "stdout",
          "text": [
            "Customer name:Precious\n",
            "Item Purchased:Apple\n",
            "Price:34.50\n",
            "Quantity:12\n",
            "Precious purchased 12 units of Apple at NGN34.50 for NGN414.00.\n"
          ]
        }
      ]
    },
    {
      "cell_type": "code",
      "source": [
        "# Input\n",
        "customername = input(\"Customer name:\")\n",
        "item = input(\"Item Purchased:\")\n",
        "\n",
        "price = float(input(f\"Price of {item}:\"))\n",
        "quantity = int(input(f\"Quantity of {item}:\"))\n",
        "\n",
        "# Process\n",
        "salesValue = price * quantity\n",
        "\n",
        "# Output\n",
        "print(f\"{customername} purchased {quantity} units of {item} at NGN{price:,.2f} for NGN{salesValue:,.2f}.\")"
      ],
      "metadata": {
        "colab": {
          "base_uri": "https://localhost:8080/"
        },
        "id": "z9qK8PL5yAn3",
        "outputId": "faf85382-3f6d-430a-8916-9ba2584ddd8f"
      },
      "execution_count": 37,
      "outputs": [
        {
          "output_type": "stream",
          "name": "stdout",
          "text": [
            "Customer name:Adaora\n",
            "Item Purchased:iPhone 15\n",
            "Price of iPhone 15:230\n",
            "Quantity of iPhone 15:1\n",
            "Adaora purchased 1 units of iPhone 15 at NGN230.00 for NGN230.00.\n"
          ]
        }
      ]
    },
    {
      "cell_type": "markdown",
      "source": [
        "**Write a code in Python to process UTME result for any given candidate.**"
      ],
      "metadata": {
        "id": "ottrFalnyii6"
      }
    },
    {
      "cell_type": "code",
      "source": [
        "print(\"***************************************************************************************************************\")\n",
        "print(\"                             UNIVERSITY MATRICULATION EXAMINATION (UTME)                                       \")\n",
        "print(\"***************************************************************************************************************\")"
      ],
      "metadata": {
        "colab": {
          "base_uri": "https://localhost:8080/"
        },
        "id": "2RBaHmhtzTI2",
        "outputId": "fdc23c27-4a5b-4485-abaa-301fe7656cdb"
      },
      "execution_count": 38,
      "outputs": [
        {
          "output_type": "stream",
          "name": "stdout",
          "text": [
            "***************************************************************************************************************\n",
            "                             UNIVERSITY MATRICULATION EXAMINATION (UTME)                                       \n",
            "***************************************************************************************************************\n"
          ]
        }
      ]
    }
  ]
}