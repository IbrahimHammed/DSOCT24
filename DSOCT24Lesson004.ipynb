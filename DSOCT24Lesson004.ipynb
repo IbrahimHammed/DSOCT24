{
  "nbformat": 4,
  "nbformat_minor": 0,
  "metadata": {
    "colab": {
      "provenance": [],
      "authorship_tag": "ABX9TyNrH7B33SRQouTtOFPpf2BC",
      "include_colab_link": true
    },
    "kernelspec": {
      "name": "python3",
      "display_name": "Python 3"
    },
    "language_info": {
      "name": "python"
    }
  },
  "cells": [
    {
      "cell_type": "markdown",
      "metadata": {
        "id": "view-in-github",
        "colab_type": "text"
      },
      "source": [
        "<a href=\"https://colab.research.google.com/github/IbrahimHammed/DSOCT24/blob/main/DSOCT24Lesson004.ipynb\" target=\"_parent\"><img src=\"https://colab.research.google.com/assets/colab-badge.svg\" alt=\"Open In Colab\"/></a>"
      ]
    },
    {
      "cell_type": "code",
      "execution_count": 1,
      "metadata": {
        "id": "bPEMdqS377i5"
      },
      "outputs": [],
      "source": [
        "itemBucket = []\n",
        "priceBucket = []\n",
        "quantityBucket = []\n",
        "amountBucket = []"
      ]
    },
    {
      "cell_type": "code",
      "source": [
        "maxCount = 4\n",
        "\n",
        "for i in range(maxCount - 1):\n",
        "  item = input(f\"Enter item #{i+1}: \")\n",
        "  price = float(input(f\"Enter price for item #{i+1}: \"))\n",
        "  quantity = int(input(f\"Enter quantity for item #{i+1}: \"))\n",
        "\n",
        "  itemBucket.append(item)\n",
        "  priceBucket.append(price)\n",
        "  quantityBucket.append(quantity)\n",
        "  amountBucket.append(price * quantity)\n",
        "\n",
        "print(itemBucket)\n",
        "print(priceBucket)\n",
        "print(quantityBucket)\n",
        "print(amountBucket)"
      ],
      "metadata": {
        "colab": {
          "base_uri": "https://localhost:8080/"
        },
        "id": "dx9HM01o943Q",
        "outputId": "768fb1ad-892e-4af2-e0b4-054c8a0a0351"
      },
      "execution_count": 6,
      "outputs": [
        {
          "output_type": "stream",
          "name": "stdout",
          "text": [
            "Enter item #1: Apple\n",
            "Enter price for item #1: 50\n",
            "Enter quantity for item #1: 10\n",
            "Enter item #2: Orange\n",
            "Enter price for item #2: 25\n",
            "Enter quantity for item #2: 5\n",
            "Enter item #3: Cashew\n",
            "Enter price for item #3: 55\n",
            "Enter quantity for item #3: 15\n",
            "['Bread', 'Apple', 'Orange', 'Cashew']\n",
            "[1000.0, 50.0, 25.0, 55.0]\n",
            "[4, 10, 5, 15]\n",
            "[4000.0, 500.0, 125.0, 825.0]\n"
          ]
        }
      ]
    },
    {
      "cell_type": "code",
      "source": [
        "print('Item \\t Price \\t Quantity \\t Amount')\n",
        "for i in range(maxCount - 1):\n",
        "  print(f'{itemBucket[i]} \\t {priceBucket[i]} \\t {quantityBucket[i]} \\t {amountBucket[i]}')"
      ],
      "metadata": {
        "colab": {
          "base_uri": "https://localhost:8080/"
        },
        "id": "Z9ythSwdBNSH",
        "outputId": "9a82dd35-a6ac-40d6-dbf6-88be3b45db9d"
      },
      "execution_count": 7,
      "outputs": [
        {
          "output_type": "stream",
          "name": "stdout",
          "text": [
            "Item \t Price \t Quantity \t Amount\n",
            "Bread \t 1000.0 \t 4 \t 4000.0\n",
            "Apple \t 50.0 \t 10 \t 500.0\n",
            "Orange \t 25.0 \t 5 \t 125.0\n"
          ]
        }
      ]
    },
    {
      "cell_type": "code",
      "source": [
        "print(list(range(10)))"
      ],
      "metadata": {
        "colab": {
          "base_uri": "https://localhost:8080/"
        },
        "id": "hftwpR2F_pZc",
        "outputId": "ed4820ab-8657-416c-a0c2-b8c6b9881d0b"
      },
      "execution_count": 3,
      "outputs": [
        {
          "output_type": "stream",
          "name": "stdout",
          "text": [
            "[0, 1, 2, 3, 4, 5, 6, 7, 8, 9]\n"
          ]
        }
      ]
    },
    {
      "cell_type": "code",
      "source": [
        "print(list(range(1,10)))"
      ],
      "metadata": {
        "colab": {
          "base_uri": "https://localhost:8080/"
        },
        "id": "6_kISpgiAJSV",
        "outputId": "8932bd16-2b74-428f-ef30-7e586cd7c254"
      },
      "execution_count": 4,
      "outputs": [
        {
          "output_type": "stream",
          "name": "stdout",
          "text": [
            "[1, 2, 3, 4, 5, 6, 7, 8, 9]\n"
          ]
        }
      ]
    },
    {
      "cell_type": "code",
      "source": [
        "print(list(range(1,11,2)))"
      ],
      "metadata": {
        "colab": {
          "base_uri": "https://localhost:8080/"
        },
        "id": "1lqTaCjfAVkl",
        "outputId": "cd7a582b-9165-464a-98f0-8e9ed432bcd5"
      },
      "execution_count": 5,
      "outputs": [
        {
          "output_type": "stream",
          "name": "stdout",
          "text": [
            "[1, 3, 5, 7, 9]\n"
          ]
        }
      ]
    },
    {
      "cell_type": "code",
      "source": [
        "\n",
        "\n"
      ],
      "metadata": {
        "id": "uw0R7LdW_I0r"
      },
      "execution_count": null,
      "outputs": []
    },
    {
      "cell_type": "code",
      "source": [
        "subjectBucket = []\n",
        "scoreBucket = []\n",
        "\n",
        "for item in range(4):\n",
        "  subject = input(f\"Subject {item + 1} is what?\")\n",
        "  subjectBucket.append(subject)\n",
        "\n",
        "  score = input(f\"Score in {subject} is what?\")\n",
        "  scoreBucket.append(score)\n",
        "\n",
        "print(subjectBucket)\n",
        "print(scoreBucket)"
      ],
      "metadata": {
        "colab": {
          "base_uri": "https://localhost:8080/"
        },
        "id": "mHZvPqAFB15G",
        "outputId": "4dadbd50-28a6-4530-b0f8-257459caf8e9"
      },
      "execution_count": 11,
      "outputs": [
        {
          "output_type": "stream",
          "name": "stdout",
          "text": [
            "Subject 1 is what?MAT\n",
            "Score in MAT is what?90\n",
            "Subject 2 is what?ENG\n",
            "Score in ENG is what?67\n",
            "Subject 3 is what?PHY\n",
            "Score in PHY is what?87\n",
            "Subject 4 is what?CHE\n",
            "Score in CHE is what?86\n",
            "['MAT', 'ENG', 'PHY', 'CHE']\n",
            "['90', '67', '87', '86']\n"
          ]
        }
      ]
    },
    {
      "cell_type": "code",
      "source": [
        "shoppingList = []\n",
        "\n",
        "shoppingList.append(\"Shoes\")\n",
        "shoppingList.append(\"Jacket\")\n",
        "shoppingList.append(\"Gloves\")\n",
        "\n",
        "print(shoppingList)"
      ],
      "metadata": {
        "colab": {
          "base_uri": "https://localhost:8080/"
        },
        "id": "eyGMCnOBDaYm",
        "outputId": "b5d5d840-7a7c-4b51-fbfc-c4faa62e0fea"
      },
      "execution_count": 12,
      "outputs": [
        {
          "output_type": "stream",
          "name": "stdout",
          "text": [
            "['Shoes', 'Jacket', 'Gloves']\n"
          ]
        }
      ]
    },
    {
      "cell_type": "code",
      "source": [
        "shoppingList.insert(2, \"Socks\")\n",
        "print(shoppingList)"
      ],
      "metadata": {
        "colab": {
          "base_uri": "https://localhost:8080/"
        },
        "id": "xnAM9F6dDlWr",
        "outputId": "38c7ed4d-8823-437f-cb6c-445e1d76efc8"
      },
      "execution_count": 13,
      "outputs": [
        {
          "output_type": "stream",
          "name": "stdout",
          "text": [
            "['Shoes', 'Jacket', 'Socks', 'Gloves']\n"
          ]
        }
      ]
    },
    {
      "cell_type": "code",
      "source": [
        "shoppingList.remove(\"Gloves\")\n",
        "print(shoppingList)"
      ],
      "metadata": {
        "colab": {
          "base_uri": "https://localhost:8080/"
        },
        "id": "ExI1wNOFDz-n",
        "outputId": "8e5c33bf-af5d-4931-d442-afe4fdac0601"
      },
      "execution_count": 14,
      "outputs": [
        {
          "output_type": "stream",
          "name": "stdout",
          "text": [
            "['Shoes', 'Jacket', 'Socks']\n"
          ]
        }
      ]
    },
    {
      "cell_type": "code",
      "source": [
        "shoppingList.pop()\n",
        "print(shoppingList)"
      ],
      "metadata": {
        "colab": {
          "base_uri": "https://localhost:8080/"
        },
        "id": "HymwztqsD38h",
        "outputId": "ef898cdd-4440-4906-ca27-cc8ccd13fecb"
      },
      "execution_count": 15,
      "outputs": [
        {
          "output_type": "stream",
          "name": "stdout",
          "text": [
            "['Shoes', 'Jacket']\n"
          ]
        }
      ]
    },
    {
      "cell_type": "code",
      "source": [
        "shoppingList.clear()\n",
        "print(shoppingList)"
      ],
      "metadata": {
        "colab": {
          "base_uri": "https://localhost:8080/"
        },
        "id": "svHIvCYdD9u0",
        "outputId": "11e84064-7cf2-4fca-9973-f9cfc6810003"
      },
      "execution_count": 16,
      "outputs": [
        {
          "output_type": "stream",
          "name": "stdout",
          "text": [
            "[]\n"
          ]
        }
      ]
    },
    {
      "cell_type": "code",
      "source": [
        "items = [\"Shoes\", \"Jacket\", \"Gloves\", \"Socks\"]\n",
        "\n",
        "item = input(\"Item name\")\n",
        "if item in items:\n",
        "  print(f\"{item} is in the list\")\n",
        "else:\n",
        "  print(f\"{item} is not in the list\")"
      ],
      "metadata": {
        "colab": {
          "base_uri": "https://localhost:8080/"
        },
        "id": "WtntgrHmEFCN",
        "outputId": "e2b00e22-4a10-47c6-f05e-c1676fd16c49"
      },
      "execution_count": 17,
      "outputs": [
        {
          "output_type": "stream",
          "name": "stdout",
          "text": [
            "Item namePawpaw\n",
            "Pawpaw is not in the list\n"
          ]
        }
      ]
    }
  ]
}