{
  "nbformat": 4,
  "nbformat_minor": 0,
  "metadata": {
    "colab": {
      "provenance": [],
      "authorship_tag": "ABX9TyPfNgUd2ii9EIDZvJAhGML6",
      "include_colab_link": true
    },
    "kernelspec": {
      "name": "python3",
      "display_name": "Python 3"
    },
    "language_info": {
      "name": "python"
    }
  },
  "cells": [
    {
      "cell_type": "markdown",
      "metadata": {
        "id": "view-in-github",
        "colab_type": "text"
      },
      "source": [
        "<a href=\"https://colab.research.google.com/github/IbrahimHammed/DSOCT24/blob/main/PythonDemoDSOCT24_001.ipynb\" target=\"_parent\"><img src=\"https://colab.research.google.com/assets/colab-badge.svg\" alt=\"Open In Colab\"/></a>"
      ]
    },
    {
      "cell_type": "markdown",
      "source": [
        "**Write a code to add 2 numbers and display the result**"
      ],
      "metadata": {
        "id": "8wBVpBu9m61e"
      }
    },
    {
      "cell_type": "code",
      "execution_count": null,
      "metadata": {
        "id": "6SKI9PYOkoIt"
      },
      "outputs": [],
      "source": [
        "#VARIABLES\n",
        "# 1. DESCRIPTIVE firstname, depreciation, cummulativedepreciation\n",
        "# 2. NOT start with figure but can contain figure e.g 1stname (not valid) name1 (valid)\n",
        "# 3. NO SPACE in the variable name e.g. first name (invalid) first_name (valid)\n",
        "# 4. No hypen e.g. first-name (invalid) first_name, _first_name, first_name_, _first_name_\n",
        "# 5. CASE SENSITIVITY e.g. firstname is not the same as Firstname\n",
        "# 6. CANNOT be Python reserved words e.g print, if, else, elif, upper, etc\n",
        "# SIMPLICITY"
      ]
    },
    {
      "cell_type": "code",
      "source": [
        "# INPUT\n",
        "number1 = 7\n",
        "number2 = -4\n",
        "\n",
        "# PROCESSING\n",
        "result = number1 + number2\n",
        "\n",
        "# OUTPUT\n",
        "print(result)"
      ],
      "metadata": {
        "colab": {
          "base_uri": "https://localhost:8080/"
        },
        "id": "MwHfCzTRqHMv",
        "outputId": "2a2afab1-5fb6-4877-d689-2d99df9cf50b"
      },
      "execution_count": null,
      "outputs": [
        {
          "output_type": "stream",
          "name": "stdout",
          "text": [
            "3\n"
          ]
        }
      ]
    },
    {
      "cell_type": "code",
      "source": [
        "# INPUT\n",
        "number1 = 7\n",
        "number2 = -4\n",
        "\n",
        "# PROCESSING\n",
        "result = number1 - number2\n",
        "\n",
        "# OUTPUT\n",
        "print(result)"
      ],
      "metadata": {
        "colab": {
          "base_uri": "https://localhost:8080/"
        },
        "id": "KSXpG_xJsARg",
        "outputId": "d2a372a4-8e3d-4d5c-a3bc-9f58cbb51fd3"
      },
      "execution_count": null,
      "outputs": [
        {
          "output_type": "stream",
          "name": "stdout",
          "text": [
            "11\n"
          ]
        }
      ]
    },
    {
      "cell_type": "code",
      "source": [
        "# INPUT\n",
        "number1 = 7\n",
        "number2 = -4\n",
        "\n",
        "# PROCESSING\n",
        "result = number1 * number2\n",
        "\n",
        "# OUTPUT\n",
        "print(result)"
      ],
      "metadata": {
        "colab": {
          "base_uri": "https://localhost:8080/"
        },
        "id": "CKoJ3W5VsGLe",
        "outputId": "cb6aebe2-8fdf-4dd0-b8fe-0ba4904631ef"
      },
      "execution_count": null,
      "outputs": [
        {
          "output_type": "stream",
          "name": "stdout",
          "text": [
            "-28\n"
          ]
        }
      ]
    },
    {
      "cell_type": "code",
      "source": [
        "# ARITHMETIC: +, -, *, /, //, %\n",
        "# LOGICAL: AND, OR, NOT\n",
        "# CONTAINER: IN, NOT IN\n",
        "# COMPARATIVE: ==, !=, >, <, >=, <="
      ],
      "metadata": {
        "id": "UY0VYiIcsOS2"
      },
      "execution_count": null,
      "outputs": []
    },
    {
      "cell_type": "code",
      "source": [
        "# Gives the result of dividing x by y\n",
        "# INPUT\n",
        "number1 = 7\n",
        "number2 = 4\n",
        "\n",
        "# PROCESSING\n",
        "result = number1 / number2\n",
        "\n",
        "# OUTPUT\n",
        "print(result)"
      ],
      "metadata": {
        "colab": {
          "base_uri": "https://localhost:8080/"
        },
        "id": "WVaqxKsEs8-E",
        "outputId": "244878ec-e1a9-4692-c9bc-a13fa26b7e7b"
      },
      "execution_count": null,
      "outputs": [
        {
          "output_type": "stream",
          "name": "stdout",
          "text": [
            "1.75\n"
          ]
        }
      ]
    },
    {
      "cell_type": "code",
      "source": [
        "# Integer divisor operator gives integer output of dividing x by y\n",
        "# INPUT\n",
        "number1 = 7\n",
        "number2 = 4\n",
        "\n",
        "# PROCESSING\n",
        "result = number1 // number2\n",
        "\n",
        "# OUTPUT\n",
        "print(result)"
      ],
      "metadata": {
        "colab": {
          "base_uri": "https://localhost:8080/"
        },
        "id": "-yNrLC81tDk9",
        "outputId": "90858d72-e68f-42ce-d431-53b09dba4c89"
      },
      "execution_count": null,
      "outputs": [
        {
          "output_type": "stream",
          "name": "stdout",
          "text": [
            "1\n"
          ]
        }
      ]
    },
    {
      "cell_type": "code",
      "source": [
        "# Modulus operator gives remainder of dividing x by y\n",
        "# INPUT\n",
        "number1 = 7\n",
        "number2 = 4\n",
        "\n",
        "# PROCESSING\n",
        "result = number1 % number2\n",
        "\n",
        "# OUTPUT\n",
        "print(result)"
      ],
      "metadata": {
        "colab": {
          "base_uri": "https://localhost:8080/"
        },
        "id": "xazqU2_CtKw3",
        "outputId": "370813b5-079a-4895-fa35-0b15c7e46052"
      },
      "execution_count": null,
      "outputs": [
        {
          "output_type": "stream",
          "name": "stdout",
          "text": [
            "3\n"
          ]
        }
      ]
    },
    {
      "cell_type": "code",
      "source": [
        "# INPUT\n",
        "AssetCost = 1000000\n",
        "Lifetime = 4\n",
        "CalenderMonths = 12\n",
        "\n",
        "# PROCESSES\n",
        "Depreciation = AssetCost / (Lifetime * CalenderMonths)\n",
        "NBV = Depreciation * 3\n",
        "\n",
        "# OUTPUT\n",
        "print(Depreciation)\n",
        "print(NBV)"
      ],
      "metadata": {
        "colab": {
          "base_uri": "https://localhost:8080/"
        },
        "id": "3TgTXdpOtyw-",
        "outputId": "693a2007-bea6-4d43-cb97-d9e51d89a032"
      },
      "execution_count": null,
      "outputs": [
        {
          "output_type": "stream",
          "name": "stdout",
          "text": [
            "20833.333333333332\n",
            "62500.0\n"
          ]
        }
      ]
    },
    {
      "cell_type": "markdown",
      "source": [
        "**Write a python code to find the area of a circle of any given radius**"
      ],
      "metadata": {
        "id": "Pe6KzhHBvXw6"
      }
    },
    {
      "cell_type": "code",
      "source": [
        "# INPUT\n",
        "radius = 21\n",
        "pi = 3.142\n",
        "\n",
        "# PROCESS\n",
        "area = pi * (radius ** 2)\n",
        "\n",
        "# OUTPUT\n",
        "print(area)\n"
      ],
      "metadata": {
        "colab": {
          "base_uri": "https://localhost:8080/"
        },
        "id": "-8u7qGXRvhh5",
        "outputId": "92a76223-3384-4e24-b022-c20aa26c51e2"
      },
      "execution_count": null,
      "outputs": [
        {
          "output_type": "stream",
          "name": "stdout",
          "text": [
            "1385.622\n"
          ]
        }
      ]
    },
    {
      "cell_type": "code",
      "source": [
        "# Inventory MGT System for a fast food business"
      ],
      "metadata": {
        "id": "NbZ9ROsGxDso"
      },
      "execution_count": null,
      "outputs": []
    },
    {
      "cell_type": "code",
      "source": [
        "# Foundation of data analysis for AI"
      ],
      "metadata": {
        "id": "M-6nG4oOy1jU"
      },
      "execution_count": null,
      "outputs": []
    }
  ]
}